{
 "cells": [
  {
   "cell_type": "code",
   "execution_count": 1,
   "metadata": {
    "collapsed": false
   },
   "outputs": [
    {
     "name": "stderr",
     "output_type": "stream",
     "text": [
      "/home/administrador/anaconda2/lib/python2.7/site-packages/matplotlib/font_manager.py:273: UserWarning: Matplotlib is building the font cache using fc-list. This may take a moment.\n",
      "  warnings.warn('Matplotlib is building the font cache using fc-list. This may take a moment.')\n"
     ]
    }
   ],
   "source": [
    "%matplotlib inline\n",
    "from sklearn.cluster import KMeans\n",
    "import matplotlib.pyplot as plt\n",
    "import numpy as np\n",
    "from scipy.spatial.distance import pdist\n",
    "from sklearn.decomposition import PCA\n",
    "from sklearn.ensemble import RandomForestClassifier as rfc\n",
    "from sklearn.cross_validation import train_test_split\n",
    "from sklearn import preprocessing\n",
    "from sklearn import metrics"
   ]
  },
  {
   "cell_type": "code",
   "execution_count": 2,
   "metadata": {
    "collapsed": true
   },
   "outputs": [],
   "source": [
    "#Lectura de los datos\n",
    "filename = 'wine.data'\n",
    "filein = open(filename, 'r')\n",
    "filelines = filein.readlines()\n",
    "filein.close()\n",
    "\n",
    "n_elements = len(filelines)\n",
    "n_features = 13\n",
    "\n",
    "data = np.zeros((n_elements, n_features))\n",
    "clases=np.zeros(n_elements)\n",
    "for i in range(n_elements):\n",
    "    nums1 = filelines[i].split(',')\n",
    "    nums=nums1[1:]\n",
    "    clases[i]=nums1[0]\n",
    "    for n in range(n_features):\n",
    "        data[i,n] = nums[n]\n",
    "    del nums"
   ]
  },
  {
   "cell_type": "code",
   "execution_count": 3,
   "metadata": {
    "collapsed": true
   },
   "outputs": [],
   "source": [
    "#Particion de los datos de entrenamiento y prueba\n",
    "X_train,X_test,y_train,y_test=train_test_split(data,clases)"
   ]
  },
  {
   "cell_type": "code",
   "execution_count": 4,
   "metadata": {
    "collapsed": true
   },
   "outputs": [],
   "source": [
    "#Normalizacion de cada una de las caracteristicas \n",
    "std_scale = preprocessing.StandardScaler().fit(X_train)\n",
    "std_scale1 = preprocessing.StandardScaler().fit(X_test)\n",
    "X_train = std_scale.transform(X_train)\n",
    "X_test = std_scale1.transform(X_test)"
   ]
  },
  {
   "cell_type": "code",
   "execution_count": 5,
   "metadata": {
    "collapsed": true
   },
   "outputs": [],
   "source": [
    "#Clasificacion de los datos en distinto numero de clusters\n",
    "sumas=[]\n",
    "d=sum(pdist(X_test)**2)\n",
    "for k in range(1,11):\n",
    "    cluster=KMeans(k)\n",
    "    cluster.fit(X_train)\n",
    "    distancias=cluster.transform(X_test)\n",
    "    suma=0\n",
    "    for r in range(X_test.shape[0]):            \n",
    "        suma+=min(distancias[r,:])**2 \n",
    "#    sumas.append((d-suma)/d*100)\n",
    "    sumas.append(suma)"
   ]
  },
  {
   "cell_type": "code",
   "execution_count": 6,
   "metadata": {
    "collapsed": false
   },
   "outputs": [
    {
     "name": "stdout",
     "output_type": "stream",
     "text": [
      "En la grafica podemos ver que la curva presenta el principal quiebre en 3 clusters por lo tanto podemos decir que este es numero optimo de clusters\n"
     ]
    },
    {
     "name": "stderr",
     "output_type": "stream",
     "text": [
      "/home/administrador/anaconda2/lib/python2.7/site-packages/matplotlib/figure.py:397: UserWarning: matplotlib is currently using a non-GUI backend, so cannot show the figure\n",
      "  \"matplotlib is currently using a non-GUI backend, \"\n"
     ]
    },
    {
     "data": {
      "image/png": "[encoded data removed]",
      "text/plain": [
       "<matplotlib.figure.Figure at 0x7f27e40c9890>"
      ]
     },
     "metadata": {},
     "output_type": "display_data"
    }
   ],
   "source": [
    "#Grafica de la suma de las distancias al cuadrado \n",
    "print 'En la grafica podemos ver que la curva presenta el principal quiebre en 3 clusters por lo tanto podemos decir que este es numero optimo de clusters'\n",
    "ks=range(1,11)\n",
    "m=plt.figure(1)\n",
    "plt.plot(ks,sumas)\n",
    "plt.scatter(ks,sumas)\n",
    "plt.title('Suma de las distancias al cuadrado de los puntos al cluster mas cercano')\n",
    "plt.xlabel('Numero de clusters')\n",
    "plt.ylabel('Suma')\n",
    "m.show()"
   ]
  },
  {
   "cell_type": "code",
   "execution_count": 7,
   "metadata": {
    "collapsed": false
   },
   "outputs": [],
   "source": [
    "#Clasificacion de los datos con tres clusters\n",
    "cluster1=KMeans(3)\n",
    "cluster1.fit(X_test);"
   ]
  },
  {
   "cell_type": "code",
   "execution_count": 8,
   "metadata": {
    "collapsed": true
   },
   "outputs": [],
   "source": [
    "#Calculo del error en la prediccion de los datos\n",
    "pclusters=cluster1.predict(X_test)\n",
    "error_c1=0\n",
    "error_c2=0\n",
    "error_c3=0\n",
    "error_c4=0"
   ]
  },
  {
   "cell_type": "code",
   "execution_count": 9,
   "metadata": {
    "collapsed": true
   },
   "outputs": [],
   "source": [
    "#La numeracion de los clusters es arbitraria por esta razon se tiene que contemplar todas las combinaciones posibles\n",
    "for i in range(X_test.shape[0]):\n",
    "    if (pclusters[i]+1)!=y_test[i]:\n",
    "        error_c1+=1\n",
    "error_c1=float(error_c1)/X_test.shape[0]\n",
    "for i in range(X_test.shape[0]):\n",
    "    if pclusters[i]==0:\n",
    "        pclusters[i]=1\n",
    "    elif pclusters[i]==1:\n",
    "        pclusters[i]=0\n",
    "    if (pclusters[i]+1)!=y_test[i]:\n",
    "        error_c2+=1\n",
    "pclusters=cluster1.predict(X_test)\n",
    "error_c2=float(error_c2)/X_test.shape[0]\n",
    "for i in range(X_test.shape[0]):\n",
    "    if pclusters[i]==0:\n",
    "        pclusters[i]=2\n",
    "    elif pclusters[i]==2:\n",
    "        pclusters[i]=0\n",
    "    if (pclusters[i]+1)!=y_test[i]:\n",
    "        error_c3+=1\n",
    "pclusters=cluster1.predict(X_test)\n",
    "error_c3=float(error_c3)/X_test.shape[0]\n",
    "for i in range(X_test.shape[0]):\n",
    "    if pclusters[i]==1:\n",
    "        pclusters[i]=2\n",
    "    elif pclusters[i]==2:\n",
    "        pclusters[i]=1\n",
    "    if (pclusters[i]+1)!=y_test[i]:\n",
    "        error_c4+=1\n",
    "error_c4=float(error_c4)/X_test.shape[0]"
   ]
  },
  {
   "cell_type": "code",
   "execution_count": 10,
   "metadata": {
    "collapsed": false
   },
   "outputs": [
    {
     "name": "stdout",
     "output_type": "stream",
     "text": [
      "En la grafica se pueden ver que despues de la componente  3  cada una de las componentes explican menos del 10% de la variacion por lo tanto se puede decir que este es el numero optimo de componentes\n"
     ]
    },
    {
     "data": {
      "image/png": "[encoded data removed]",
      "text/plain": [
       "<matplotlib.figure.Figure at 0x7f27e17b4fd0>"
      ]
     },
     "metadata": {},
     "output_type": "display_data"
    },
    {
     "data": {
      "image/png": "[encoded data removed]",
      "text/plain": [
       "<matplotlib.figure.Figure at 0x7f27e17b4b90>"
      ]
     },
     "metadata": {},
     "output_type": "display_data"
    }
   ],
   "source": [
    "#Clasificacion por principal components analysis con 10 componentes\n",
    "pca=PCA(10)\n",
    "pca.fit_transform(X_train)\n",
    "pve=pca.explained_variance_ratio_\n",
    "n_comp=1\n",
    "mayor=0\n",
    "#for i in range(len(pve)-4):\n",
    "#    pen1=pve[i+1]-pve[i+2]\n",
    "#    pen2=pve[i+2]-pve[i+3]\n",
    "#    dif=pen1-pen2\n",
    "#    if dif>mayor:\n",
    "#        mayor=dif\n",
    "#        n_comp=(i+2)+1\n",
    "for i in range(len(pve)):\n",
    "    if pve[i]<0.09:\n",
    "        n_comp=i\n",
    "        break\n",
    "print 'En la grafica se pueden ver que despues de la componente ',n_comp,' cada una de las componentes explican menos del 10% de la variacion por lo tanto se puede decir que este es el numero optimo de componentes'\n",
    "\n",
    "p=plt.figure(2)\n",
    "plt.plot(ks,pve*100)\n",
    "plt.scatter(ks,pve*100)\n",
    "plt.ylim(0,100)\n",
    "plt.ylabel('PVE')\n",
    "plt.xlabel('Numero de componentes')\n",
    "plt.title('Porcentaje de variacion explicada por cada componente')\n",
    "p.show()\n",
    "\n",
    "pve_ac=[]\n",
    "actual=0\n",
    "for i in range(len(pve)):\n",
    "    actual+=pve[i]*100\n",
    "    pve_ac.append(actual)\n",
    "g=plt.figure(3)\n",
    "plt.plot(ks,pve_ac)\n",
    "plt.scatter(ks,pve_ac)\n",
    "plt.ylim(0,100)\n",
    "plt.ylabel('PVE Acumulativo')\n",
    "plt.xlabel('Numero de componentes')\n",
    "plt.title('Acumulativo del porcentaje de variacion explicada por las componentes')\n",
    "g.show()"
   ]
  },
  {
   "cell_type": "code",
   "execution_count": 11,
   "metadata": {
    "collapsed": true
   },
   "outputs": [],
   "source": [
    "#Clasificacion de los datos usando cuatro componentes\n",
    "pca1=PCA(n_comp)\n",
    "X_train_pca=pca1.fit_transform(X_train)\n",
    "X_test_pca=pca1.transform(X_test)"
   ]
  },
  {
   "cell_type": "code",
   "execution_count": 12,
   "metadata": {
    "collapsed": true
   },
   "outputs": [],
   "source": [
    "#Calculo del error en la clasificacion usando 4 componentes\n",
    "#Para calcular el error se debe usar nuevamente la clasificacion por clusters ya que PCA solo #hace una reduccion de las \n",
    "#dimensiones (o propiedades) en las cuales se observan los datos\n",
    "clus_pca=KMeans(3)\n",
    "clus_pca.fit(X_train_pca)\n",
    "ppca=clus_pca.predict(X_test_pca)\n",
    "error_pca1=0\n",
    "error_pca2=0\n",
    "error_pca3=0\n",
    "error_pca4=0\n",
    "for i in range(X_test.shape[0]):\n",
    "    if (ppca[i]+1)!=y_test[i]:\n",
    "        error_pca1+=1\n",
    "error_pca1=float(error_pca1)/X_test.shape[0]\n",
    "\n",
    "for i in range(X_test.shape[0]):\n",
    "    if ppca[i]==0:\n",
    "        ppca[i]=1\n",
    "    elif ppca[i]==1:\n",
    "        ppca[i]=0\n",
    "    if (ppca[i]+1)!=y_test[i]:\n",
    "        error_pca2+=1\n",
    "\n",
    "ppca=clus_pca.predict(X_test_pca)\n",
    "error_pca2=float(error_pca2)/X_test.shape[0]\n",
    "for i in range(X_test.shape[0]):\n",
    "    if ppca[i]==0:\n",
    "        ppca[i]=2\n",
    "    elif ppca[i]==2:\n",
    "        ppca[i]=0\n",
    "    if (ppca[i]+1)!=y_test[i]:\n",
    "        error_pca3+=1\n",
    "\n",
    "ppca=clus_pca.predict(X_test_pca)\n",
    "error_pca3=float(error_pca3)/X_test.shape[0]\n",
    "for i in range(X_test.shape[0]):\n",
    "    if ppca[i]==1:\n",
    "        ppca[i]=2\n",
    "    elif ppca[i]==2:\n",
    "        ppca[i]=1\n",
    "    if (ppca[i]+1)!=y_test[i]:\n",
    "        error_pca4+=1\n",
    "\n",
    "error_pca4=float(error_pca4)/X_test.shape[0]"
   ]
  },
  {
   "cell_type": "code",
   "execution_count": 13,
   "metadata": {
    "collapsed": false
   },
   "outputs": [
    {
     "name": "stderr",
     "output_type": "stream",
     "text": [
      "/home/administrador/anaconda2/lib/python2.7/site-packages/sklearn/ensemble/forest.py:403: UserWarning: Some inputs do not have OOB scores. This probably means too few trees were used to compute any reliable oob estimates.\n",
      "  warn(\"Some inputs do not have OOB scores. \"\n",
      "/home/administrador/anaconda2/lib/python2.7/site-packages/sklearn/ensemble/forest.py:408: RuntimeWarning: invalid value encountered in true_divide\n",
      "  predictions[k].sum(axis=1)[:, np.newaxis])\n"
     ]
    },
    {
     "data": {
      "image/png": "[encoded data removed]",
      "text/plain": [
       "<matplotlib.figure.Figure at 0x7f27e17567d0>"
      ]
     },
     "metadata": {},
     "output_type": "display_data"
    }
   ],
   "source": [
    "#Clasificacion de los datos por Random Forest usando distinto numero de arboles\n",
    "puntajes=[]\n",
    "xs=[]\n",
    "error_bosques=[]\n",
    "encontrado=False\n",
    "mejor_n=0 \n",
    "contador=0\n",
    "miner=100000000\n",
    "for i in range(300):\n",
    "    bosque=rfc(n_estimators=i+1,oob_score=True)\n",
    "    xs.append(i+1)\n",
    "    bosque.fit(X_train,y_train)\n",
    "#Calculo del error Out-of-bag     \n",
    "    puntajes.append(bosque.oob_score_)\n",
    "#Calculo del error en la clasificacion de los datos\n",
    "    pbosque=bosque.predict(X_test)\n",
    "    error_bosque=0\n",
    "    for i in range(X_test.shape[0]):\n",
    "        if pbosque[i]!=y_test[i]:\n",
    "            error_bosque+=1\n",
    "    if miner>error_bosque:\n",
    "        miner=error_bosque\n",
    "        mejor_n=i\n",
    "    error_bosques.append(float(error_bosque)/X_test.shape[0])\n",
    "\n",
    "w=plt.figure(4)\n",
    "plt.plot(xs,puntajes)\n",
    "plt.scatter(xs,puntajes)\n",
    "plt.title('Error Out-of-bag con distinto numero de arboles')\n",
    "plt.ylabel('Oob error')\n",
    "plt.xlabel('Numero de arboles')\n",
    "w.show()"
   ]
  },
  {
   "cell_type": "code",
   "execution_count": 14,
   "metadata": {
    "collapsed": false
   },
   "outputs": [
    {
     "data": {
      "image/png": "[encoded data removed]",
      "text/plain": [
       "<matplotlib.figure.Figure at 0x7f27e17b40d0>"
      ]
     },
     "metadata": {},
     "output_type": "display_data"
    }
   ],
   "source": [
    "#A partir del error en la clasificacion determina cual es el numero optimo de los arboles\n",
    "bosque1=rfc(n_estimators=mejor_n)\n",
    "bosque1.fit(X_train,y_train)\n",
    "pbosque=bosque1.predict(X_test)\n",
    "error_bosque=0\n",
    "for i in range(X_test.shape[0]):\n",
    "    if pbosque[i]!=y_test[i]:\n",
    "        error_bosque+=1\n",
    "error_bosque=float(error_bosque)/X_test.shape[0]\n",
    "\n",
    "p=plt.figure(5)\n",
    "plt.plot(xs,error_bosques)\n",
    "plt.scatter(xs,error_bosques)\n",
    "plt.title('Error en la clasificacion con distinto numero de arboles')\n",
    "plt.ylabel('Error')\n",
    "plt.xlabel('Numero de arboles')\n",
    "p.show()\n"
   ]
  },
  {
   "cell_type": "code",
   "execution_count": 15,
   "metadata": {
    "collapsed": false
   },
   "outputs": [
    {
     "name": "stdout",
     "output_type": "stream",
     "text": [
      "El error en 3-Means clusters fue de 0.555555555556\n",
      "El error en PCA con 4 componentes fue de 0.0222222222222\n",
      "El error en random forest con 44 arboles fue de 0.0\n",
      "Por lo tanto el mejor metodo para clasificar los datos es Random Forest\n"
     ]
    }
   ],
   "source": [
    "error_cl=min([error_c1,error_c2,error_c3,error_c4])\n",
    "error_pcas=min([error_pca1,error_pca2,error_pca3,error_pca4])\n",
    "errores_met=[error_cl,error_pcas,error_bosque]\n",
    "nombres=['3-Means clusters', 'Principal components analysis','Random Forest']\n",
    "print 'El error en 3-Means clusters fue de', error_cl\n",
    "print 'El error en PCA con 4 componentes fue de', error_pcas\n",
    "print 'El error en random forest con', mejor_n ,'arboles fue de', error_bosque\n",
    "print 'Por lo tanto el mejor metodo para clasificar los datos es', nombres[np.argmin(errores_met)]"
   ]
  },
  {
   "cell_type": "code",
   "execution_count": 18,
   "metadata": {
    "collapsed": false
   },
   "outputs": [
    {
     "name": "stdout",
     "output_type": "stream",
     "text": [
      "Respuestas a las preguntas\n",
      "1. En todos los intentos que se hicieron el numero optimo de clusters es de 3 lo cual concuerda con el numero de clases de los vinos\n",
      "2. En la mayoria de los intentos que se hicieron el numero optimo de componentes son 3 ya que estas son las que explican la variacion en mas de un 10%\n",
      "3. Por lo general en todos los intentos hechos el numero optimo de arboles son 44 para clasificar los datos, para decidir esto me base en dos medidas la primera el error oob (en la grafica se puede ver que este error se empieza a estabilizar con 44 arboles), la segunda el error en las predicciones (se puede ver en la grafica que el error se empieza a estabilizar con 44 arboles)\n",
      "4. En los muchos intentos que se hicieron con la rutina anterior se obtuvo que por lo general el mejor metodo de clasificacion es el de Random Forest seguido de Principal Components Analysis y el ultimo 3-Means clusters puede que algunos resultados desmientan esta afirmacion pero esto se debe a que los datos se escogen arbitrariamente para entrenamiento y prueba.\n"
     ]
    }
   ],
   "source": [
    "print 'Respuestas a las preguntas'\n",
    "print '1. En todos los intentos que se hicieron el numero optimo de clusters es de 3 lo cual concuerda con el numero de clases de los vinos'\n",
    "print '2. En la mayoria de los intentos que se hicieron el numero optimo de componentes son 3 ya que estas son las que explican la variacion en mas de un 10%'\n",
    "print '3. Por lo general en todos los intentos hechos el numero optimo de arboles son 44 para clasificar los datos, para decidir esto me base en dos medidas la primera el error oob (en la grafica se puede ver que este error se empieza a estabilizar con 44 arboles), la segunda el error en las predicciones (se puede ver en la grafica que el error se empieza a estabilizar con 44 arboles)'\n",
    "print '4. En los muchos intentos que se hicieron con la rutina anterior se obtuvo que por lo general el mejor metodo de clasificacion es el de Random Forest seguido de Principal Components Analysis y el ultimo 3-Means clusters puede que algunos resultados desmientan esta afirmacion pero esto se debe a que los datos se escogen arbitrariamente para entrenamiento y prueba.'"
   ]
  },
  {
   "cell_type": "code",
   "execution_count": null,
   "metadata": {
    "collapsed": true
   },
   "outputs": [],
   "source": []
  }
 ],
 "metadata": {
  "kernelspec": {
   "display_name": "Python 2",
   "language": "python",
   "name": "python2"
  },
  "language_info": {
   "codemirror_mode": {
    "name": "ipython",
    "version": 2
   },
   "file_extension": ".py",
   "mimetype": "text/x-python",
   "name": "python",
   "nbconvert_exporter": "python",
   "pygments_lexer": "ipython2",
   "version": "2.7.11"
  }
 },
 "nbformat": 4,
 "nbformat_minor": 0
}
